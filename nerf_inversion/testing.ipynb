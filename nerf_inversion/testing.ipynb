{
 "cells": [
  {
   "cell_type": "code",
   "execution_count": 1,
   "metadata": {},
   "outputs": [
    {
     "name": "stdout",
     "output_type": "stream",
     "text": [
      "Jupyter environment detected. Enabling Open3D WebVisualizer.\n",
      "[Open3D INFO] WebRTC GUI backend enabled.\n",
      "[Open3D INFO] WebRTCWindowSystem: HTTP handshake server disabled.\n"
     ]
    }
   ],
   "source": [
    "import torch\n",
    "from nerfstudio.utils.eval_utils import eval_setup\n",
    "import numpy as np\n",
    "import cv2\n",
    "from pathlib import Path"
   ]
  },
  {
   "cell_type": "code",
   "execution_count": null,
   "metadata": {},
   "outputs": [],
   "source": [
    "# 1. Load your pre-trained model\n",
    "config_path = Path(\"YOUR_MODEL_PATH/config.yml\")\n",
    "_, pipeline, _, _ = eval_setup(config_path=config_path, test_mode=\"inference\")"
   ]
  },
  {
   "cell_type": "code",
   "execution_count": null,
   "metadata": {},
   "outputs": [],
   "source": [
    "# 2. Prepare your target image (real brain surface image)\n",
    "target_image_path = \"path/to/brain_surface_image.png\"\n",
    "target_image = cv2.imread(target_image_path)\n",
    "target_image = cv2.cvtColor(target_image, cv2.COLOR_BGR2RGB)\n",
    "target_image = torch.from_numpy(target_image).float() / 255.0  # Normalize to [0,1]\n",
    "\n",
    "# Ensure target image has the right shape\n",
    "if len(target_image.shape) == 3:\n",
    "    # If target is HxWx3, we're good\n",
    "    pass\n",
    "else:\n",
    "    # Reshape if needed\n",
    "    target_image = target_image.reshape(512, 512, 3)  # Adjust dimensions as needed\n"
   ]
  },
  {
   "cell_type": "code",
   "execution_count": null,
   "metadata": {},
   "outputs": [],
   "source": [
    "# 3. Set your initial transformation matrix (good starting point)\n",
    "initial_transform = torch.tensor([\n",
    "    [-0.16551750084030392, 0.17173068552312126, -0.9711398089695112, -80.73672706466026],\n",
    "    [-0.9756847655052445, 0.11494663876681419, 0.18661861803471735, 15.51473463480075],\n",
    "    [0.14367740002017088, 0.9784149640546033, 0.14852933325600515, 12.348141976499424],\n",
    "    [0, 0, 0, 1],\n",
    "], dtype=torch.float32)\n"
   ]
  },
  {
   "cell_type": "code",
   "execution_count": null,
   "metadata": {},
   "outputs": [],
   "source": [
    "# 4. Run the optimization\n",
    "aligner = BrainSurfaceAligner(\n",
    "    pipeline=pipeline,\n",
    "    target_image=target_image,\n",
    "    initial_transform=initial_transform,\n",
    "    learning_rate=0.005,  # You may need to tune this\n",
    "    image_height=512,\n",
    "    image_width=512,\n",
    "    max_iterations=500,\n",
    ")\n",
    "\n",
    "# Optional visualization callback\n",
    "def viz_callback(iteration, loss, image, transform):\n",
    "    # Save current render\n",
    "    if iteration % 50 == 0:\n",
    "        img_np = (image.detach().cpu().numpy() * 255).astype(np.uint8)\n",
    "        cv2.imwrite(f\"iteration_{iteration}.png\", cv2.cvtColor(img_np, cv2.COLOR_RGB2BGR))\n",
    "        print(f\"Current transform:\\n{transform}\")\n",
    "\n",
    "# Run optimization\n",
    "results = aligner.run_optimization(callback=viz_callback)\n"
   ]
  },
  {
   "cell_type": "code",
   "execution_count": null,
   "metadata": {},
   "outputs": [],
   "source": [
    "# 5. Use the optimized camera parameters\n",
    "final_transform = results[\"final_transform\"]\n",
    "print(f\"Final transformation matrix:\\n{final_transform}\")\n",
    "print(f\"Final loss: {results['final_loss']}\")"
   ]
  },
  {
   "cell_type": "code",
   "execution_count": null,
   "metadata": {},
   "outputs": [],
   "source": []
  },
  {
   "cell_type": "code",
   "execution_count": null,
   "metadata": {},
   "outputs": [],
   "source": []
  }
 ],
 "metadata": {
  "kernelspec": {
   "display_name": "Python 3 (ipykernel)",
   "language": "python",
   "name": "python3"
  },
  "language_info": {
   "codemirror_mode": {
    "name": "ipython",
    "version": 3
   },
   "file_extension": ".py",
   "mimetype": "text/x-python",
   "name": "python",
   "nbconvert_exporter": "python",
   "pygments_lexer": "ipython3",
   "version": "3.8.19"
  }
 },
 "nbformat": 4,
 "nbformat_minor": 2
}
