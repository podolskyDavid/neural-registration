{
 "cells": [
  {
   "cell_type": "code",
   "id": "initial_id",
   "metadata": {
    "collapsed": true,
    "ExecuteTime": {
     "end_time": "2024-08-01T19:16:46.625673Z",
     "start_time": "2024-08-01T19:16:23.304122Z"
    }
   },
   "source": [
    "import torch\n",
    "import torch.nn as nn\n",
    "import torch.optim as optim\n",
    "from pathlib import Path\n",
    "from typing import Tuple\n",
    "\n",
    "from nerfstudio.utils.eval_utils import eval_setup\n",
    "from nerfstudio.cameras.rays import RayBundle, RaySamples\n",
    "from nerfstudio.cameras.camera_optimizers import CameraOptimizer\n",
    "from nerfstudio.cameras.cameras import Cameras\n",
    "from nerfstudio.field_components.field_heads import FieldHeadNames"
   ],
   "outputs": [
    {
     "name": "stdout",
     "output_type": "stream",
     "text": [
      "Jupyter environment detected. Enabling Open3D WebVisualizer.\n",
      "[Open3D INFO] WebRTC GUI backend enabled.\n",
      "[Open3D INFO] WebRTCWindowSystem: HTTP handshake server disabled.\n"
     ]
    },
    {
     "ename": "ModuleNotFoundError",
     "evalue": "No module named 'style_ngp.style_ngp_config'",
     "output_type": "error",
     "traceback": [
      "\u001B[0;31m---------------------------------------------------------------------------\u001B[0m",
      "\u001B[0;31mModuleNotFoundError\u001B[0m                       Traceback (most recent call last)",
      "Cell \u001B[0;32mIn[3], line 7\u001B[0m\n\u001B[1;32m      4\u001B[0m \u001B[38;5;28;01mfrom\u001B[39;00m \u001B[38;5;21;01mpathlib\u001B[39;00m \u001B[38;5;28;01mimport\u001B[39;00m Path\n\u001B[1;32m      5\u001B[0m \u001B[38;5;28;01mfrom\u001B[39;00m \u001B[38;5;21;01mtyping\u001B[39;00m \u001B[38;5;28;01mimport\u001B[39;00m Tuple\n\u001B[0;32m----> 7\u001B[0m \u001B[38;5;28;01mfrom\u001B[39;00m \u001B[38;5;21;01mnerfstudio\u001B[39;00m\u001B[38;5;21;01m.\u001B[39;00m\u001B[38;5;21;01mutils\u001B[39;00m\u001B[38;5;21;01m.\u001B[39;00m\u001B[38;5;21;01meval_utils\u001B[39;00m \u001B[38;5;28;01mimport\u001B[39;00m eval_setup\n\u001B[1;32m      8\u001B[0m \u001B[38;5;28;01mfrom\u001B[39;00m \u001B[38;5;21;01mnerfstudio\u001B[39;00m\u001B[38;5;21;01m.\u001B[39;00m\u001B[38;5;21;01mcameras\u001B[39;00m\u001B[38;5;21;01m.\u001B[39;00m\u001B[38;5;21;01mrays\u001B[39;00m \u001B[38;5;28;01mimport\u001B[39;00m RayBundle, RaySamples\n\u001B[1;32m      9\u001B[0m \u001B[38;5;28;01mfrom\u001B[39;00m \u001B[38;5;21;01mnerfstudio\u001B[39;00m\u001B[38;5;21;01m.\u001B[39;00m\u001B[38;5;21;01mcameras\u001B[39;00m\u001B[38;5;21;01m.\u001B[39;00m\u001B[38;5;21;01mcamera_optimizers\u001B[39;00m \u001B[38;5;28;01mimport\u001B[39;00m CameraOptimizer\n",
      "File \u001B[0;32m~/.conda/envs/nerf-inversion/lib/python3.8/site-packages/nerfstudio/utils/eval_utils.py:28\u001B[0m\n\u001B[1;32m     25\u001B[0m \u001B[38;5;28;01mimport\u001B[39;00m \u001B[38;5;21;01mtorch\u001B[39;00m\n\u001B[1;32m     26\u001B[0m \u001B[38;5;28;01mimport\u001B[39;00m \u001B[38;5;21;01myaml\u001B[39;00m\n\u001B[0;32m---> 28\u001B[0m \u001B[38;5;28;01mfrom\u001B[39;00m \u001B[38;5;21;01mnerfstudio\u001B[39;00m\u001B[38;5;21;01m.\u001B[39;00m\u001B[38;5;21;01mconfigs\u001B[39;00m\u001B[38;5;21;01m.\u001B[39;00m\u001B[38;5;21;01mmethod_configs\u001B[39;00m \u001B[38;5;28;01mimport\u001B[39;00m all_methods\n\u001B[1;32m     29\u001B[0m \u001B[38;5;28;01mfrom\u001B[39;00m \u001B[38;5;21;01mnerfstudio\u001B[39;00m\u001B[38;5;21;01m.\u001B[39;00m\u001B[38;5;21;01mengine\u001B[39;00m\u001B[38;5;21;01m.\u001B[39;00m\u001B[38;5;21;01mtrainer\u001B[39;00m \u001B[38;5;28;01mimport\u001B[39;00m TrainerConfig\n\u001B[1;32m     30\u001B[0m \u001B[38;5;28;01mfrom\u001B[39;00m \u001B[38;5;21;01mnerfstudio\u001B[39;00m\u001B[38;5;21;01m.\u001B[39;00m\u001B[38;5;21;01mpipelines\u001B[39;00m\u001B[38;5;21;01m.\u001B[39;00m\u001B[38;5;21;01mbase_pipeline\u001B[39;00m \u001B[38;5;28;01mimport\u001B[39;00m Pipeline\n",
      "File \u001B[0;32m~/.conda/envs/nerf-inversion/lib/python3.8/site-packages/nerfstudio/configs/method_configs.py:731\u001B[0m\n\u001B[1;32m    729\u001B[0m all_methods, all_descriptions \u001B[38;5;241m=\u001B[39m method_configs, descriptions\n\u001B[1;32m    730\u001B[0m \u001B[38;5;66;03m# Add discovered external methods\u001B[39;00m\n\u001B[0;32m--> 731\u001B[0m all_methods, all_descriptions \u001B[38;5;241m=\u001B[39m merge_methods(all_methods, all_descriptions, \u001B[38;5;241m*\u001B[39m\u001B[43mdiscover_methods\u001B[49m\u001B[43m(\u001B[49m\u001B[43m)\u001B[49m)\n\u001B[1;32m    732\u001B[0m all_methods, all_descriptions \u001B[38;5;241m=\u001B[39m sort_methods(all_methods, all_descriptions)\n\u001B[1;32m    734\u001B[0m \u001B[38;5;66;03m# Register all possible external methods which can be installed with Nerfstudio\u001B[39;00m\n",
      "File \u001B[0;32m~/.conda/envs/nerf-inversion/lib/python3.8/site-packages/nerfstudio/plugins/registry.py:43\u001B[0m, in \u001B[0;36mdiscover_methods\u001B[0;34m()\u001B[0m\n\u001B[1;32m     41\u001B[0m discovered_entry_points \u001B[38;5;241m=\u001B[39m entry_points(group\u001B[38;5;241m=\u001B[39m\u001B[38;5;124m\"\u001B[39m\u001B[38;5;124mnerfstudio.method_configs\u001B[39m\u001B[38;5;124m\"\u001B[39m)\n\u001B[1;32m     42\u001B[0m \u001B[38;5;28;01mfor\u001B[39;00m name \u001B[38;5;129;01min\u001B[39;00m discovered_entry_points\u001B[38;5;241m.\u001B[39mnames:\n\u001B[0;32m---> 43\u001B[0m     spec \u001B[38;5;241m=\u001B[39m \u001B[43mdiscovered_entry_points\u001B[49m\u001B[43m[\u001B[49m\u001B[43mname\u001B[49m\u001B[43m]\u001B[49m\u001B[38;5;241;43m.\u001B[39;49m\u001B[43mload\u001B[49m\u001B[43m(\u001B[49m\u001B[43m)\u001B[49m\n\u001B[1;32m     44\u001B[0m     \u001B[38;5;28;01mif\u001B[39;00m \u001B[38;5;129;01mnot\u001B[39;00m \u001B[38;5;28misinstance\u001B[39m(spec, MethodSpecification):\n\u001B[1;32m     45\u001B[0m         CONSOLE\u001B[38;5;241m.\u001B[39mprint(\n\u001B[1;32m     46\u001B[0m             \u001B[38;5;124mf\u001B[39m\u001B[38;5;124m\"\u001B[39m\u001B[38;5;124m[bold yellow]Warning: Could not entry point \u001B[39m\u001B[38;5;132;01m{\u001B[39;00mspec\u001B[38;5;132;01m}\u001B[39;00m\u001B[38;5;124m as it is not an instance of MethodSpecification\u001B[39m\u001B[38;5;124m\"\u001B[39m\n\u001B[1;32m     47\u001B[0m         )\n",
      "File \u001B[0;32m~/.conda/envs/nerf-inversion/lib/python3.8/site-packages/importlib_metadata/__init__.py:184\u001B[0m, in \u001B[0;36mEntryPoint.load\u001B[0;34m(self)\u001B[0m\n\u001B[1;32m    179\u001B[0m \u001B[38;5;250m\u001B[39m\u001B[38;5;124;03m\"\"\"Load the entry point from its definition. If only a module\u001B[39;00m\n\u001B[1;32m    180\u001B[0m \u001B[38;5;124;03mis indicated by the value, return that module. Otherwise,\u001B[39;00m\n\u001B[1;32m    181\u001B[0m \u001B[38;5;124;03mreturn the named object.\u001B[39;00m\n\u001B[1;32m    182\u001B[0m \u001B[38;5;124;03m\"\"\"\u001B[39;00m\n\u001B[1;32m    183\u001B[0m match \u001B[38;5;241m=\u001B[39m cast(Match, \u001B[38;5;28mself\u001B[39m\u001B[38;5;241m.\u001B[39mpattern\u001B[38;5;241m.\u001B[39mmatch(\u001B[38;5;28mself\u001B[39m\u001B[38;5;241m.\u001B[39mvalue))\n\u001B[0;32m--> 184\u001B[0m module \u001B[38;5;241m=\u001B[39m \u001B[43mimport_module\u001B[49m\u001B[43m(\u001B[49m\u001B[43mmatch\u001B[49m\u001B[38;5;241;43m.\u001B[39;49m\u001B[43mgroup\u001B[49m\u001B[43m(\u001B[49m\u001B[38;5;124;43m'\u001B[39;49m\u001B[38;5;124;43mmodule\u001B[39;49m\u001B[38;5;124;43m'\u001B[39;49m\u001B[43m)\u001B[49m\u001B[43m)\u001B[49m\n\u001B[1;32m    185\u001B[0m attrs \u001B[38;5;241m=\u001B[39m \u001B[38;5;28mfilter\u001B[39m(\u001B[38;5;28;01mNone\u001B[39;00m, (match\u001B[38;5;241m.\u001B[39mgroup(\u001B[38;5;124m'\u001B[39m\u001B[38;5;124mattr\u001B[39m\u001B[38;5;124m'\u001B[39m) \u001B[38;5;129;01mor\u001B[39;00m \u001B[38;5;124m'\u001B[39m\u001B[38;5;124m'\u001B[39m)\u001B[38;5;241m.\u001B[39msplit(\u001B[38;5;124m'\u001B[39m\u001B[38;5;124m.\u001B[39m\u001B[38;5;124m'\u001B[39m))\n\u001B[1;32m    186\u001B[0m \u001B[38;5;28;01mreturn\u001B[39;00m functools\u001B[38;5;241m.\u001B[39mreduce(\u001B[38;5;28mgetattr\u001B[39m, attrs, module)\n",
      "File \u001B[0;32m~/.conda/envs/nerf-inversion/lib/python3.8/importlib/__init__.py:127\u001B[0m, in \u001B[0;36mimport_module\u001B[0;34m(name, package)\u001B[0m\n\u001B[1;32m    125\u001B[0m             \u001B[38;5;28;01mbreak\u001B[39;00m\n\u001B[1;32m    126\u001B[0m         level \u001B[38;5;241m+\u001B[39m\u001B[38;5;241m=\u001B[39m \u001B[38;5;241m1\u001B[39m\n\u001B[0;32m--> 127\u001B[0m \u001B[38;5;28;01mreturn\u001B[39;00m \u001B[43m_bootstrap\u001B[49m\u001B[38;5;241;43m.\u001B[39;49m\u001B[43m_gcd_import\u001B[49m\u001B[43m(\u001B[49m\u001B[43mname\u001B[49m\u001B[43m[\u001B[49m\u001B[43mlevel\u001B[49m\u001B[43m:\u001B[49m\u001B[43m]\u001B[49m\u001B[43m,\u001B[49m\u001B[43m \u001B[49m\u001B[43mpackage\u001B[49m\u001B[43m,\u001B[49m\u001B[43m \u001B[49m\u001B[43mlevel\u001B[49m\u001B[43m)\u001B[49m\n",
      "\u001B[0;31mModuleNotFoundError\u001B[0m: No module named 'style_ngp.style_ngp_config'"
     ]
    }
   ],
   "execution_count": 3
  },
  {
   "metadata": {},
   "cell_type": "markdown",
   "source": "### Class implementation",
   "id": "3508c4e88231f0ce"
  },
  {
   "metadata": {},
   "cell_type": "code",
   "outputs": [],
   "execution_count": null,
   "source": [
    "class NeRFInverter:\n",
    "    def __init__(self, path_to_config: str):\n",
    "        _, self.pipeline, _, _ = eval_setup(config_path=Path(path_to_config), test_mode=\"inference\")\n",
    "        self.model = self.pipeline.model\n",
    "        self.optimizer = torch.optim.Adam(self.model.parameters(), lr=1e-3)\n",
    "        self.device = self.pipeline.device\n",
    "\n",
    "        # Freeze the NeRF model parameters\n",
    "        for param in self.model.parameters():\n",
    "            param.requires_grad = False\n",
    "\n",
    "        # Initialize camera optimizer\n",
    "        self.camera_optimizer = CameraOptimizer(\n",
    "            config=self.model.config.camera_optimizer,\n",
    "            num_cameras=1,\n",
    "            device=self.device\n",
    "        )\n",
    "\n",
    "        # Set up optimizer for camera parameters\n",
    "        self.optimizer = optim.Adam(self.camera_optimizer.parameters(), lr=1e-3)\n",
    "\n",
    "        # Loss function\n",
    "        self.loss_fn = nn.MSELoss()\n",
    "\n",
    "    def create_ray_bundle(self, camera_params: torch.Tensor) -> RayBundle:\n",
    "        # Unpack camera parameters\n",
    "        position, rotation, fov = camera_params.split([3, 3, 1], dim=-1)\n",
    "\n",
    "        # Create Cameras object\n",
    "        cameras = Cameras(\n",
    "            camera_to_worlds=torch.eye(4).unsqueeze(0).to(self.device),\n",
    "            fx=1.0,\n",
    "            fy=1.0,\n",
    "            cx=0.0,\n",
    "            cy=0.0,\n",
    "            width=self.pipeline.datamanager.train_dataset.cameras.width,\n",
    "            height=self.pipeline.datamanager.train_dataset.cameras.height,\n",
    "        )\n",
    "\n",
    "        # Apply camera parameters\n",
    "        cameras.position = position\n",
    "        cameras.rotation = rotation\n",
    "        cameras.fov = fov\n",
    "\n",
    "        # Generate ray bundle\n",
    "        ray_bundle = cameras.generate_rays(camera_indices=torch.zeros(1, device=self.device).long())\n",
    "\n",
    "        return ray_bundle\n",
    "\n",
    "    def generate_rgb(self, camera_params: torch.Tensor) -> torch.Tensor:\n",
    "        # Create a RayBundle from camera parameters\n",
    "        ray_bundle = self.create_ray_bundle(camera_params)\n",
    "\n",
    "        # Apply camera optimizer\n",
    "        self.camera_optimizer.apply_to_raybundle(ray_bundle)\n",
    "\n",
    "        # Get outputs from the model\n",
    "        with torch.no_grad():\n",
    "            outputs = self.model.get_outputs(ray_bundle)\n",
    "\n",
    "        # Extract RGB values\n",
    "        rgb = outputs[FieldHeadNames.RGB]\n",
    "\n",
    "        return rgb\n",
    "\n",
    "    def optimize_camera(self, target_image: torch.Tensor, num_iterations: int = 1000) -> Tuple[\n",
    "        torch.Tensor, torch.Tensor]:\n",
    "        # Initialize camera parameters (position, rotation, fov)\n",
    "        camera_params = torch.zeros(1, 7, device=self.device, requires_grad=True)\n",
    "\n",
    "        for i in range(num_iterations):\n",
    "            self.optimizer.zero_grad()\n",
    "\n",
    "            # Generate RGB image from current camera parameters\n",
    "            generated_rgb = self.generate_rgb(camera_params)\n",
    "\n",
    "            # Compute loss\n",
    "            loss = self.loss_fn(generated_rgb, target_image)\n",
    "\n",
    "            # Backpropagate and optimize\n",
    "            loss.backward()\n",
    "            self.optimizer.step()\n",
    "\n",
    "            if i % 100 == 0:\n",
    "                print(f\"Iteration {i}, Loss: {loss.item()}\")\n",
    "\n",
    "        # Return optimized camera parameters and final generated image\n",
    "        return camera_params.detach(), self.generate_rgb(camera_params).detach()"
   ],
   "id": "eb1a9044f66e80bf"
  },
  {
   "metadata": {},
   "cell_type": "code",
   "outputs": [],
   "execution_count": null,
   "source": "",
   "id": "f92246c31f9fdfa4"
  },
  {
   "metadata": {},
   "cell_type": "code",
   "outputs": [],
   "execution_count": null,
   "source": "",
   "id": "5deb0dd1cff84e15"
  }
 ],
 "metadata": {
  "kernelspec": {
   "display_name": "Python 3",
   "language": "python",
   "name": "python3"
  },
  "language_info": {
   "codemirror_mode": {
    "name": "ipython",
    "version": 2
   },
   "file_extension": ".py",
   "mimetype": "text/x-python",
   "name": "python",
   "nbconvert_exporter": "python",
   "pygments_lexer": "ipython2",
   "version": "2.7.6"
  }
 },
 "nbformat": 4,
 "nbformat_minor": 5
}
