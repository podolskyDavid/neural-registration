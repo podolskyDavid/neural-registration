{
 "cells": [
  {
   "metadata": {
    "ExecuteTime": {
     "end_time": "2024-08-01T20:12:16.615647Z",
     "start_time": "2024-08-01T20:12:16.355206Z"
    }
   },
   "cell_type": "code",
   "source": "!ml load cuda/11.8.0-fasrc01",
   "id": "50dab1064dbf144a",
   "outputs": [],
   "execution_count": 1
  },
  {
   "cell_type": "code",
   "id": "initial_id",
   "metadata": {
    "collapsed": true,
    "ExecuteTime": {
     "end_time": "2024-08-01T20:12:53.650956Z",
     "start_time": "2024-08-01T20:12:18.307587Z"
    }
   },
   "source": [
    "import torch\n",
    "import torch.nn as nn\n",
    "import torch.optim as optim\n",
    "from pathlib import Path\n",
    "from typing import Tuple\n",
    "\n",
    "from nerfstudio.utils.eval_utils import eval_setup\n",
    "from nerfstudio.cameras.rays import RayBundle, RaySamples\n",
    "from nerfstudio.cameras.camera_optimizers import CameraOptimizer\n",
    "from nerfstudio.cameras.cameras import Cameras\n",
    "from nerfstudio.field_components.field_heads import FieldHeadNames"
   ],
   "outputs": [
    {
     "name": "stdout",
     "output_type": "stream",
     "text": [
      "Jupyter environment detected. Enabling Open3D WebVisualizer.\n",
      "[Open3D INFO] WebRTC GUI backend enabled.\n",
      "[Open3D INFO] WebRTCWindowSystem: HTTP handshake server disabled.\n"
     ]
    }
   ],
   "execution_count": 2
  },
  {
   "metadata": {},
   "cell_type": "code",
   "outputs": [],
   "execution_count": null,
   "source": "",
   "id": "5181cb2ebe659070"
  },
  {
   "metadata": {},
   "cell_type": "markdown",
   "source": "### Class implementation",
   "id": "3508c4e88231f0ce"
  },
  {
   "metadata": {
    "ExecuteTime": {
     "end_time": "2024-08-01T20:12:58.203842Z",
     "start_time": "2024-08-01T20:12:57.982970Z"
    }
   },
   "cell_type": "code",
   "source": [
    "config_path = \"/n/home10/dpodolskyi/neural-registration/outputs/0_065_cat5_2/nerfacto/2024-08-01_153850/config.yml\" \n",
    "_, pipeline, _, _ = eval_setup(config_path=Path(config_path), test_mode=\"inference\")\n",
    "nerf_model = pipeline.model\n",
    "device = pipeline.device"
   ],
   "id": "5df73c6d98e1ea2e",
   "outputs": [
    {
     "ename": "AssertionError",
     "evalue": "Data directory data/datasets/0_065_cat5_2.0 does not exist.",
     "output_type": "error",
     "traceback": [
      "\u001B[0;31m---------------------------------------------------------------------------\u001B[0m",
      "\u001B[0;31mAssertionError\u001B[0m                            Traceback (most recent call last)",
      "Cell \u001B[0;32mIn[3], line 2\u001B[0m\n\u001B[1;32m      1\u001B[0m config_path \u001B[38;5;241m=\u001B[39m \u001B[38;5;124m\"\u001B[39m\u001B[38;5;124m/n/home10/dpodolskyi/neural-registration/outputs/0_065_cat5_2/nerfacto/2024-08-01_153850/config.yml\u001B[39m\u001B[38;5;124m\"\u001B[39m \n\u001B[0;32m----> 2\u001B[0m _, pipeline, _, _ \u001B[38;5;241m=\u001B[39m \u001B[43meval_setup\u001B[49m\u001B[43m(\u001B[49m\u001B[43mconfig_path\u001B[49m\u001B[38;5;241;43m=\u001B[39;49m\u001B[43mPath\u001B[49m\u001B[43m(\u001B[49m\u001B[43mconfig_path\u001B[49m\u001B[43m)\u001B[49m\u001B[43m,\u001B[49m\u001B[43m \u001B[49m\u001B[43mtest_mode\u001B[49m\u001B[38;5;241;43m=\u001B[39;49m\u001B[38;5;124;43m\"\u001B[39;49m\u001B[38;5;124;43minference\u001B[39;49m\u001B[38;5;124;43m\"\u001B[39;49m\u001B[43m)\u001B[49m\n\u001B[1;32m      3\u001B[0m nerf_model \u001B[38;5;241m=\u001B[39m pipeline\u001B[38;5;241m.\u001B[39mmodel\n\u001B[1;32m      4\u001B[0m device \u001B[38;5;241m=\u001B[39m pipeline\u001B[38;5;241m.\u001B[39mdevice\n",
      "File \u001B[0;32m~/.conda/envs/nerf-inversion/lib/python3.8/site-packages/nerfstudio/utils/eval_utils.py:105\u001B[0m, in \u001B[0;36meval_setup\u001B[0;34m(config_path, eval_num_rays_per_chunk, test_mode, update_config_callback)\u001B[0m\n\u001B[1;32m    103\u001B[0m \u001B[38;5;66;03m# setup pipeline (which includes the DataManager)\u001B[39;00m\n\u001B[1;32m    104\u001B[0m device \u001B[38;5;241m=\u001B[39m torch\u001B[38;5;241m.\u001B[39mdevice(\u001B[38;5;124m\"\u001B[39m\u001B[38;5;124mcuda\u001B[39m\u001B[38;5;124m\"\u001B[39m \u001B[38;5;28;01mif\u001B[39;00m torch\u001B[38;5;241m.\u001B[39mcuda\u001B[38;5;241m.\u001B[39mis_available() \u001B[38;5;28;01melse\u001B[39;00m \u001B[38;5;124m\"\u001B[39m\u001B[38;5;124mcpu\u001B[39m\u001B[38;5;124m\"\u001B[39m)\n\u001B[0;32m--> 105\u001B[0m pipeline \u001B[38;5;241m=\u001B[39m \u001B[43mconfig\u001B[49m\u001B[38;5;241;43m.\u001B[39;49m\u001B[43mpipeline\u001B[49m\u001B[38;5;241;43m.\u001B[39;49m\u001B[43msetup\u001B[49m\u001B[43m(\u001B[49m\u001B[43mdevice\u001B[49m\u001B[38;5;241;43m=\u001B[39;49m\u001B[43mdevice\u001B[49m\u001B[43m,\u001B[49m\u001B[43m \u001B[49m\u001B[43mtest_mode\u001B[49m\u001B[38;5;241;43m=\u001B[39;49m\u001B[43mtest_mode\u001B[49m\u001B[43m)\u001B[49m\n\u001B[1;32m    106\u001B[0m \u001B[38;5;28;01massert\u001B[39;00m \u001B[38;5;28misinstance\u001B[39m(pipeline, Pipeline)\n\u001B[1;32m    107\u001B[0m pipeline\u001B[38;5;241m.\u001B[39meval()\n",
      "File \u001B[0;32m~/.conda/envs/nerf-inversion/lib/python3.8/site-packages/nerfstudio/configs/base_config.py:54\u001B[0m, in \u001B[0;36mInstantiateConfig.setup\u001B[0;34m(self, **kwargs)\u001B[0m\n\u001B[1;32m     52\u001B[0m \u001B[38;5;28;01mdef\u001B[39;00m \u001B[38;5;21msetup\u001B[39m(\u001B[38;5;28mself\u001B[39m, \u001B[38;5;241m*\u001B[39m\u001B[38;5;241m*\u001B[39mkwargs) \u001B[38;5;241m-\u001B[39m\u001B[38;5;241m>\u001B[39m Any:\n\u001B[1;32m     53\u001B[0m \u001B[38;5;250m    \u001B[39m\u001B[38;5;124;03m\"\"\"Returns the instantiated object using the config.\"\"\"\u001B[39;00m\n\u001B[0;32m---> 54\u001B[0m     \u001B[38;5;28;01mreturn\u001B[39;00m \u001B[38;5;28;43mself\u001B[39;49m\u001B[38;5;241;43m.\u001B[39;49m\u001B[43m_target\u001B[49m\u001B[43m(\u001B[49m\u001B[38;5;28;43mself\u001B[39;49m\u001B[43m,\u001B[49m\u001B[43m \u001B[49m\u001B[38;5;241;43m*\u001B[39;49m\u001B[38;5;241;43m*\u001B[39;49m\u001B[43mkwargs\u001B[49m\u001B[43m)\u001B[49m\n",
      "File \u001B[0;32m~/.conda/envs/nerf-inversion/lib/python3.8/site-packages/nerfstudio/pipelines/base_pipeline.py:255\u001B[0m, in \u001B[0;36mVanillaPipeline.__init__\u001B[0;34m(self, config, device, test_mode, world_size, local_rank, grad_scaler)\u001B[0m\n\u001B[1;32m    253\u001B[0m \u001B[38;5;28mself\u001B[39m\u001B[38;5;241m.\u001B[39mconfig \u001B[38;5;241m=\u001B[39m config\n\u001B[1;32m    254\u001B[0m \u001B[38;5;28mself\u001B[39m\u001B[38;5;241m.\u001B[39mtest_mode \u001B[38;5;241m=\u001B[39m test_mode\n\u001B[0;32m--> 255\u001B[0m \u001B[38;5;28mself\u001B[39m\u001B[38;5;241m.\u001B[39mdatamanager: DataManager \u001B[38;5;241m=\u001B[39m \u001B[43mconfig\u001B[49m\u001B[38;5;241;43m.\u001B[39;49m\u001B[43mdatamanager\u001B[49m\u001B[38;5;241;43m.\u001B[39;49m\u001B[43msetup\u001B[49m\u001B[43m(\u001B[49m\n\u001B[1;32m    256\u001B[0m \u001B[43m    \u001B[49m\u001B[43mdevice\u001B[49m\u001B[38;5;241;43m=\u001B[39;49m\u001B[43mdevice\u001B[49m\u001B[43m,\u001B[49m\u001B[43m \u001B[49m\u001B[43mtest_mode\u001B[49m\u001B[38;5;241;43m=\u001B[39;49m\u001B[43mtest_mode\u001B[49m\u001B[43m,\u001B[49m\u001B[43m \u001B[49m\u001B[43mworld_size\u001B[49m\u001B[38;5;241;43m=\u001B[39;49m\u001B[43mworld_size\u001B[49m\u001B[43m,\u001B[49m\u001B[43m \u001B[49m\u001B[43mlocal_rank\u001B[49m\u001B[38;5;241;43m=\u001B[39;49m\u001B[43mlocal_rank\u001B[49m\n\u001B[1;32m    257\u001B[0m \u001B[43m\u001B[49m\u001B[43m)\u001B[49m\n\u001B[1;32m    258\u001B[0m \u001B[38;5;66;03m# TODO make cleaner\u001B[39;00m\n\u001B[1;32m    259\u001B[0m seed_pts \u001B[38;5;241m=\u001B[39m \u001B[38;5;28;01mNone\u001B[39;00m\n",
      "File \u001B[0;32m~/.conda/envs/nerf-inversion/lib/python3.8/site-packages/nerfstudio/configs/base_config.py:54\u001B[0m, in \u001B[0;36mInstantiateConfig.setup\u001B[0;34m(self, **kwargs)\u001B[0m\n\u001B[1;32m     52\u001B[0m \u001B[38;5;28;01mdef\u001B[39;00m \u001B[38;5;21msetup\u001B[39m(\u001B[38;5;28mself\u001B[39m, \u001B[38;5;241m*\u001B[39m\u001B[38;5;241m*\u001B[39mkwargs) \u001B[38;5;241m-\u001B[39m\u001B[38;5;241m>\u001B[39m Any:\n\u001B[1;32m     53\u001B[0m \u001B[38;5;250m    \u001B[39m\u001B[38;5;124;03m\"\"\"Returns the instantiated object using the config.\"\"\"\u001B[39;00m\n\u001B[0;32m---> 54\u001B[0m     \u001B[38;5;28;01mreturn\u001B[39;00m \u001B[38;5;28;43mself\u001B[39;49m\u001B[38;5;241;43m.\u001B[39;49m\u001B[43m_target\u001B[49m\u001B[43m(\u001B[49m\u001B[38;5;28;43mself\u001B[39;49m\u001B[43m,\u001B[49m\u001B[43m \u001B[49m\u001B[38;5;241;43m*\u001B[39;49m\u001B[38;5;241;43m*\u001B[39;49m\u001B[43mkwargs\u001B[49m\u001B[43m)\u001B[49m\n",
      "File \u001B[0;32m~/.conda/envs/nerf-inversion/lib/python3.8/site-packages/nerfstudio/data/datamanagers/parallel_datamanager.py:162\u001B[0m, in \u001B[0;36mParallelDataManager.__init__\u001B[0;34m(self, config, device, test_mode, world_size, local_rank, **kwargs)\u001B[0m\n\u001B[1;32m    160\u001B[0m     \u001B[38;5;28mself\u001B[39m\u001B[38;5;241m.\u001B[39mdataparser\u001B[38;5;241m.\u001B[39mdownscale_factor \u001B[38;5;241m=\u001B[39m \u001B[38;5;241m1\u001B[39m  \u001B[38;5;66;03m# Avoid opening images\u001B[39;00m\n\u001B[1;32m    161\u001B[0m \u001B[38;5;28mself\u001B[39m\u001B[38;5;241m.\u001B[39mincludes_time \u001B[38;5;241m=\u001B[39m \u001B[38;5;28mself\u001B[39m\u001B[38;5;241m.\u001B[39mdataparser\u001B[38;5;241m.\u001B[39mincludes_time\n\u001B[0;32m--> 162\u001B[0m \u001B[38;5;28mself\u001B[39m\u001B[38;5;241m.\u001B[39mtrain_dataparser_outputs: DataparserOutputs \u001B[38;5;241m=\u001B[39m \u001B[38;5;28;43mself\u001B[39;49m\u001B[38;5;241;43m.\u001B[39;49m\u001B[43mdataparser\u001B[49m\u001B[38;5;241;43m.\u001B[39;49m\u001B[43mget_dataparser_outputs\u001B[49m\u001B[43m(\u001B[49m\u001B[43msplit\u001B[49m\u001B[38;5;241;43m=\u001B[39;49m\u001B[38;5;124;43m\"\u001B[39;49m\u001B[38;5;124;43mtrain\u001B[39;49m\u001B[38;5;124;43m\"\u001B[39;49m\u001B[43m)\u001B[49m\n\u001B[1;32m    163\u001B[0m \u001B[38;5;28mself\u001B[39m\u001B[38;5;241m.\u001B[39meval_dataparser_outputs: DataparserOutputs \u001B[38;5;241m=\u001B[39m \u001B[38;5;28mself\u001B[39m\u001B[38;5;241m.\u001B[39mdataparser\u001B[38;5;241m.\u001B[39mget_dataparser_outputs(split\u001B[38;5;241m=\u001B[39m\u001B[38;5;28mself\u001B[39m\u001B[38;5;241m.\u001B[39mtest_split)\n\u001B[1;32m    164\u001B[0m cameras \u001B[38;5;241m=\u001B[39m \u001B[38;5;28mself\u001B[39m\u001B[38;5;241m.\u001B[39mtrain_dataparser_outputs\u001B[38;5;241m.\u001B[39mcameras\n",
      "File \u001B[0;32m~/.conda/envs/nerf-inversion/lib/python3.8/site-packages/nerfstudio/data/dataparsers/base_dataparser.py:165\u001B[0m, in \u001B[0;36mDataParser.get_dataparser_outputs\u001B[0;34m(self, split, **kwargs)\u001B[0m\n\u001B[1;32m    155\u001B[0m \u001B[38;5;28;01mdef\u001B[39;00m \u001B[38;5;21mget_dataparser_outputs\u001B[39m(\u001B[38;5;28mself\u001B[39m, split: \u001B[38;5;28mstr\u001B[39m \u001B[38;5;241m=\u001B[39m \u001B[38;5;124m\"\u001B[39m\u001B[38;5;124mtrain\u001B[39m\u001B[38;5;124m\"\u001B[39m, \u001B[38;5;241m*\u001B[39m\u001B[38;5;241m*\u001B[39mkwargs: Optional[Dict]) \u001B[38;5;241m-\u001B[39m\u001B[38;5;241m>\u001B[39m DataparserOutputs:\n\u001B[1;32m    156\u001B[0m \u001B[38;5;250m    \u001B[39m\u001B[38;5;124;03m\"\"\"Returns the dataparser outputs for the given split.\u001B[39;00m\n\u001B[1;32m    157\u001B[0m \n\u001B[1;32m    158\u001B[0m \u001B[38;5;124;03m    Args:\u001B[39;00m\n\u001B[0;32m   (...)\u001B[0m\n\u001B[1;32m    163\u001B[0m \u001B[38;5;124;03m        DataparserOutputs containing data for the specified dataset and split\u001B[39;00m\n\u001B[1;32m    164\u001B[0m \u001B[38;5;124;03m    \"\"\"\u001B[39;00m\n\u001B[0;32m--> 165\u001B[0m     dataparser_outputs \u001B[38;5;241m=\u001B[39m \u001B[38;5;28;43mself\u001B[39;49m\u001B[38;5;241;43m.\u001B[39;49m\u001B[43m_generate_dataparser_outputs\u001B[49m\u001B[43m(\u001B[49m\u001B[43msplit\u001B[49m\u001B[43m,\u001B[49m\u001B[43m \u001B[49m\u001B[38;5;241;43m*\u001B[39;49m\u001B[38;5;241;43m*\u001B[39;49m\u001B[43mkwargs\u001B[49m\u001B[43m)\u001B[49m\n\u001B[1;32m    166\u001B[0m     \u001B[38;5;28;01mreturn\u001B[39;00m dataparser_outputs\n",
      "File \u001B[0;32m~/.conda/envs/nerf-inversion/lib/python3.8/site-packages/nerfstudio/data/dataparsers/nerfstudio_dataparser.py:90\u001B[0m, in \u001B[0;36mNerfstudio._generate_dataparser_outputs\u001B[0;34m(self, split)\u001B[0m\n\u001B[1;32m     89\u001B[0m \u001B[38;5;28;01mdef\u001B[39;00m \u001B[38;5;21m_generate_dataparser_outputs\u001B[39m(\u001B[38;5;28mself\u001B[39m, split\u001B[38;5;241m=\u001B[39m\u001B[38;5;124m\"\u001B[39m\u001B[38;5;124mtrain\u001B[39m\u001B[38;5;124m\"\u001B[39m):\n\u001B[0;32m---> 90\u001B[0m     \u001B[38;5;28;01massert\u001B[39;00m \u001B[38;5;28mself\u001B[39m\u001B[38;5;241m.\u001B[39mconfig\u001B[38;5;241m.\u001B[39mdata\u001B[38;5;241m.\u001B[39mexists(), \u001B[38;5;124mf\u001B[39m\u001B[38;5;124m\"\u001B[39m\u001B[38;5;124mData directory \u001B[39m\u001B[38;5;132;01m{\u001B[39;00m\u001B[38;5;28mself\u001B[39m\u001B[38;5;241m.\u001B[39mconfig\u001B[38;5;241m.\u001B[39mdata\u001B[38;5;132;01m}\u001B[39;00m\u001B[38;5;124m does not exist.\u001B[39m\u001B[38;5;124m\"\u001B[39m\n\u001B[1;32m     92\u001B[0m     \u001B[38;5;28;01mif\u001B[39;00m \u001B[38;5;28mself\u001B[39m\u001B[38;5;241m.\u001B[39mconfig\u001B[38;5;241m.\u001B[39mdata\u001B[38;5;241m.\u001B[39msuffix \u001B[38;5;241m==\u001B[39m \u001B[38;5;124m\"\u001B[39m\u001B[38;5;124m.json\u001B[39m\u001B[38;5;124m\"\u001B[39m:\n\u001B[1;32m     93\u001B[0m         meta \u001B[38;5;241m=\u001B[39m load_from_json(\u001B[38;5;28mself\u001B[39m\u001B[38;5;241m.\u001B[39mconfig\u001B[38;5;241m.\u001B[39mdata)\n",
      "\u001B[0;31mAssertionError\u001B[0m: Data directory data/datasets/0_065_cat5_2.0 does not exist."
     ]
    }
   ],
   "execution_count": 3
  },
  {
   "metadata": {},
   "cell_type": "code",
   "outputs": [],
   "execution_count": null,
   "source": [
    "def create_ray_bundle(camera_params: torch.Tensor) -> RayBundle:\n",
    "    # Unpack camera parameters\n",
    "    position, rotation, fov = camera_params.split([3, 3, 1], dim=-1)\n",
    "\n",
    "    # Create Cameras object\n",
    "    cameras = Cameras(\n",
    "        camera_to_worlds=torch.eye(4).unsqueeze(0).to(),\n",
    "        fx=1.0,\n",
    "        fy=1.0,\n",
    "        cx=0.0,\n",
    "        cy=0.0,\n",
    "        width=self.pipeline.datamanager.train_dataset.cameras.width,\n",
    "        height=self.pipeline.datamanager.train_dataset.cameras.height,\n",
    "    )\n",
    "\n",
    "    # Apply camera parameters\n",
    "    cameras.position = position\n",
    "    cameras.rotation = rotation\n",
    "    cameras.fov = fov\n",
    "\n",
    "    # Generate ray bundle\n",
    "    ray_bundle = cameras.generate_rays(camera_indices=torch.zeros(1, device=self.device).long())\n",
    "\n",
    "    return ray_bundle\n",
    "\n",
    "def generate_rgb(self, camera_params: torch.Tensor) -> torch.Tensor:\n",
    "    # Create a RayBundle from camera parameters\n",
    "    ray_bundle = self.create_ray_bundle(camera_params)\n",
    "\n",
    "    # Apply camera optimizer\n",
    "    self.camera_optimizer.apply_to_raybundle(ray_bundle)\n",
    "\n",
    "    # Get outputs from the model\n",
    "    with torch.no_grad():\n",
    "        outputs = self.model.get_outputs(ray_bundle)\n",
    "\n",
    "    # Extract RGB values\n",
    "    rgb = outputs[FieldHeadNames.RGB]\n",
    "\n",
    "    return rgb\n",
    "\n",
    "def optimize_camera(self, target_image: torch.Tensor, num_iterations: int = 1000) -> Tuple[\n",
    "    torch.Tensor, torch.Tensor]:\n",
    "    # Initialize camera parameters (position, rotation, fov)\n",
    "    camera_params = torch.zeros(1, 7, device=self.device, requires_grad=True)\n",
    "\n",
    "    for i in range(num_iterations):\n",
    "        self.optimizer.zero_grad()\n",
    "\n",
    "        # Generate RGB image from current camera parameters\n",
    "        generated_rgb = self.generate_rgb(camera_params)\n",
    "\n",
    "        # Compute loss\n",
    "        loss = self.loss_fn(generated_rgb, target_image)\n",
    "\n",
    "        # Backpropagate and optimize\n",
    "        loss.backward()\n",
    "        self.optimizer.step()\n",
    "\n",
    "        if i % 100 == 0:\n",
    "            print(f\"Iteration {i}, Loss: {loss.item()}\")\n",
    "\n",
    "    # Return optimized camera parameters and final generated image\n",
    "    return camera_params.detach(), self.generate_rgb(camera_params).detach()"
   ],
   "id": "eb1a9044f66e80bf"
  },
  {
   "metadata": {},
   "cell_type": "code",
   "outputs": [],
   "execution_count": null,
   "source": "",
   "id": "f92246c31f9fdfa4"
  },
  {
   "metadata": {},
   "cell_type": "code",
   "outputs": [],
   "execution_count": null,
   "source": "",
   "id": "5deb0dd1cff84e15"
  }
 ],
 "metadata": {
  "kernelspec": {
   "display_name": "Python 3",
   "language": "python",
   "name": "python3"
  },
  "language_info": {
   "codemirror_mode": {
    "name": "ipython",
    "version": 2
   },
   "file_extension": ".py",
   "mimetype": "text/x-python",
   "name": "python",
   "nbconvert_exporter": "python",
   "pygments_lexer": "ipython2",
   "version": "2.7.6"
  }
 },
 "nbformat": 4,
 "nbformat_minor": 5
}
